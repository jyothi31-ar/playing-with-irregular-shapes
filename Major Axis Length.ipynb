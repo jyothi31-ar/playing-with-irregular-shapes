{
 "cells": [
  {
   "cell_type": "code",
   "execution_count": 1,
   "id": "2e0fa525",
   "metadata": {},
   "outputs": [],
   "source": [
    "import cv2\n",
    "import numpy as np\n",
    "import math\n",
    "import imutils\n",
    "path = r'C:\\Users\\ADMIN\\Desktop\\Cognida Coding Challenge\\Mineral Processing Technology - Image Analytics\\input\\img1.png'\n",
    "image = cv2.imread(path)\n",
    "gray = cv2.cvtColor(image, cv2.COLOR_BGR2GRAY)\n",
    "invert_img = cv2.bitwise_not(gray)\n",
    "_, thresh = cv2.threshold(invert_img, 100, 255, cv2.THRESH_BINARY)\n",
    "contours, _ = cv2.findContours(thresh, cv2.RETR_EXTERNAL, cv2.CHAIN_APPROX_SIMPLE)\n",
    "big_contour = max(contours, key=cv2.contourArea)"
   ]
  },
  {
   "cell_type": "code",
   "execution_count": 2,
   "id": "9fe3ce8b",
   "metadata": {},
   "outputs": [],
   "source": [
    "ellipse = cv2.fitEllipse(big_contour)\n",
    "(xc,yc),(d1,d2),angle = ellipse\n",
    "\n",
    "result = image.copy()\n",
    "xc, yc = ellipse[0]\n",
    "rmajor = max(d1,d2)/2\n",
    "if angle > 90:\n",
    "    angle = angle - 90\n",
    "else:\n",
    "    angle = angle + 90\n",
    "\n",
    "x1 = xc + math.cos(math.radians(angle))*rmajor\n",
    "y1 = yc + math.sin(math.radians(angle))*rmajor\n",
    "x2 = xc + math.cos(math.radians(angle+180))*rmajor\n",
    "y2 = yc + math.sin(math.radians(angle+180))*rmajor"
   ]
  },
  {
   "cell_type": "code",
   "execution_count": 3,
   "id": "046e9646",
   "metadata": {},
   "outputs": [],
   "source": [
    "cv2.line(result, (int(x1),int(y1)), (int(x2),int(y2)), (0, 0, 255), 3)\n",
    "org=(50,50)\n",
    "\n",
    "cv2.putText(result,f'Major Axis Length=:{round(max(d1,d2))} pixels',org,cv2.FONT_HERSHEY_SIMPLEX, 0.4, (0, 0, 255), 1)\n",
    "cv2.imshow(\"Image\", result)\n",
    "cv2.waitKey(0)\n",
    "cv2.destroyAllWindows()"
   ]
  },
  {
   "cell_type": "code",
   "execution_count": null,
   "id": "8fb81859",
   "metadata": {},
   "outputs": [],
   "source": []
  }
 ],
 "metadata": {
  "kernelspec": {
   "display_name": "Python 3 (ipykernel)",
   "language": "python",
   "name": "python3"
  },
  "language_info": {
   "codemirror_mode": {
    "name": "ipython",
    "version": 3
   },
   "file_extension": ".py",
   "mimetype": "text/x-python",
   "name": "python",
   "nbconvert_exporter": "python",
   "pygments_lexer": "ipython3",
   "version": "3.10.11"
  }
 },
 "nbformat": 4,
 "nbformat_minor": 5
}
