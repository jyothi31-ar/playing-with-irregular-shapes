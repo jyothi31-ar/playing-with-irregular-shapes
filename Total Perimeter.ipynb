{
 "cells": [
  {
   "cell_type": "code",
   "execution_count": 1,
   "id": "56d2f7f4",
   "metadata": {},
   "outputs": [],
   "source": [
    "import cv2\n",
    "path = r'C:\\Users\\ADMIN\\Desktop\\Cognida Coding Challenge\\Mineral Processing Technology - Image Analytics\\input\\img5.png'\n",
    "img = cv2.imread(path)\n",
    "gray = cv2.cvtColor(img, cv2.COLOR_BGR2GRAY)\n",
    "invert_img = cv2.bitwise_not(gray)"
   ]
  },
  {
   "cell_type": "code",
   "execution_count": 2,
   "id": "3abf6fd5",
   "metadata": {},
   "outputs": [],
   "source": [
    "ret,thresh = cv2.threshold(invert_img, 150, 255, 0)\n",
    "contours,hierarchy = cv2.findContours(thresh, cv2.RETR_TREE,cv2.CHAIN_APPROX_SIMPLE)\n"
   ]
  },
  {
   "cell_type": "code",
   "execution_count": 3,
   "id": "eb1481c7",
   "metadata": {},
   "outputs": [
    {
     "name": "stdout",
     "output_type": "stream",
     "text": [
      "Perimeter: 1058\n"
     ]
    }
   ],
   "source": [
    "cnt = contours[0]\n",
    "perimeter = cv2.arcLength(cnt, True)\n",
    "perimeter = round(perimeter)\n",
    "print('Perimeter:', perimeter)"
   ]
  },
  {
   "cell_type": "code",
   "execution_count": 4,
   "id": "2f397af7",
   "metadata": {},
   "outputs": [],
   "source": [
    "img1 = cv2.drawContours(img, [cnt], -1, (0,0,255), 2)"
   ]
  },
  {
   "cell_type": "code",
   "execution_count": 5,
   "id": "6811d339",
   "metadata": {},
   "outputs": [
    {
     "data": {
      "text/plain": [
       "array([[[255, 255, 255],\n",
       "        [255, 255, 255],\n",
       "        [255, 255, 255],\n",
       "        ...,\n",
       "        [255, 255, 255],\n",
       "        [255, 255, 255],\n",
       "        [255, 255, 255]],\n",
       "\n",
       "       [[255, 255, 255],\n",
       "        [255, 255, 255],\n",
       "        [255, 255, 255],\n",
       "        ...,\n",
       "        [255, 255, 255],\n",
       "        [255, 255, 255],\n",
       "        [255, 255, 255]],\n",
       "\n",
       "       [[255, 255, 255],\n",
       "        [255, 255, 255],\n",
       "        [255, 255, 255],\n",
       "        ...,\n",
       "        [255, 255, 255],\n",
       "        [255, 255, 255],\n",
       "        [255, 255, 255]],\n",
       "\n",
       "       ...,\n",
       "\n",
       "       [[255, 255, 255],\n",
       "        [255, 255, 255],\n",
       "        [255, 255, 255],\n",
       "        ...,\n",
       "        [255, 255, 255],\n",
       "        [255, 255, 255],\n",
       "        [255, 255, 255]],\n",
       "\n",
       "       [[255, 255, 255],\n",
       "        [255, 255, 255],\n",
       "        [255, 255, 255],\n",
       "        ...,\n",
       "        [255, 255, 255],\n",
       "        [255, 255, 255],\n",
       "        [255, 255, 255]],\n",
       "\n",
       "       [[255, 255, 255],\n",
       "        [255, 255, 255],\n",
       "        [255, 255, 255],\n",
       "        ...,\n",
       "        [255, 255, 255],\n",
       "        [255, 255, 255],\n",
       "        [255, 255, 255]]], dtype=uint8)"
      ]
     },
     "execution_count": 5,
     "metadata": {},
     "output_type": "execute_result"
    }
   ],
   "source": [
    "x1, y1 = cnt[0,0]\n",
    "cv2.putText(img,f'Total Perimeter=:{perimeter} pixels',(x1,y1),cv2.FONT_HERSHEY_SIMPLEX, 0.4, (0, 0, 255), 1)"
   ]
  },
  {
   "cell_type": "code",
   "execution_count": 6,
   "id": "5086eb36",
   "metadata": {},
   "outputs": [],
   "source": [
    "cv2.imshow(\"Image\", img)\n",
    "cv2.waitKey(0)\n",
    "cv2.destroyAllWindows()"
   ]
  }
 ],
 "metadata": {
  "kernelspec": {
   "display_name": "Python 3 (ipykernel)",
   "language": "python",
   "name": "python3"
  },
  "language_info": {
   "codemirror_mode": {
    "name": "ipython",
    "version": 3
   },
   "file_extension": ".py",
   "mimetype": "text/x-python",
   "name": "python",
   "nbconvert_exporter": "python",
   "pygments_lexer": "ipython3",
   "version": "3.10.11"
  }
 },
 "nbformat": 4,
 "nbformat_minor": 5
}
