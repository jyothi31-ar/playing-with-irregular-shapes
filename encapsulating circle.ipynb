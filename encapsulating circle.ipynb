{
 "cells": [
  {
   "cell_type": "code",
   "execution_count": 1,
   "id": "941b8d72",
   "metadata": {},
   "outputs": [],
   "source": [
    "import cv2\n",
    "import numpy as np"
   ]
  },
  {
   "cell_type": "code",
   "execution_count": 2,
   "id": "3d4de9df",
   "metadata": {},
   "outputs": [],
   "source": [
    "path = r'C:\\Users\\ADMIN\\Desktop\\Cognida Coding Challenge\\Mineral Processing Technology - Image Analytics\\input\\img1.png'\n",
    "img = cv2.imread(path)\n",
    "gray = cv2.cvtColor(img, cv2.COLOR_BGR2GRAY)\n",
    "invert_img = cv2.bitwise_not(gray)"
   ]
  },
  {
   "cell_type": "code",
   "execution_count": 3,
   "id": "59b3f074",
   "metadata": {},
   "outputs": [
    {
     "name": "stdout",
     "output_type": "stream",
     "text": [
      "Number of contours detected: 1\n"
     ]
    }
   ],
   "source": [
    "ret,thresh = cv2.threshold(invert_img, 150, 255, 0)\n",
    "contours,hierarchy = cv2.findContours(thresh, cv2.RETR_TREE,cv2.CHAIN_APPROX_SIMPLE)\n",
    "print(\"Number of contours detected:\", len(contours))\n",
    "cnt = contours[0]\n"
   ]
  },
  {
   "cell_type": "code",
   "execution_count": 4,
   "id": "116c6d7b",
   "metadata": {},
   "outputs": [],
   "source": [
    "(x,y),radius = cv2.minEnclosingCircle(cnt)\n",
    "center = (int(x),int(y))\n",
    "radius = int(radius)"
   ]
  },
  {
   "cell_type": "code",
   "execution_count": 5,
   "id": "e4d2112b",
   "metadata": {},
   "outputs": [],
   "source": [
    "cv2.circle(img,center,radius,(0,0,255),2)\n",
    "cv2.imshow(\"Circle\", img)\n",
    "cv2.waitKey(0)\n",
    "cv2.destroyAllWindows()"
   ]
  },
  {
   "cell_type": "code",
   "execution_count": null,
   "id": "847a53fe",
   "metadata": {},
   "outputs": [],
   "source": []
  }
 ],
 "metadata": {
  "kernelspec": {
   "display_name": "Python 3 (ipykernel)",
   "language": "python",
   "name": "python3"
  },
  "language_info": {
   "codemirror_mode": {
    "name": "ipython",
    "version": 3
   },
   "file_extension": ".py",
   "mimetype": "text/x-python",
   "name": "python",
   "nbconvert_exporter": "python",
   "pygments_lexer": "ipython3",
   "version": "3.10.11"
  }
 },
 "nbformat": 4,
 "nbformat_minor": 5
}
